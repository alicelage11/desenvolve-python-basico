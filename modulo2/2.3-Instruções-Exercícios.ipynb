https://anaconda.cloud/share/notebooks/2e58081c-87d7-4dce-aa15-9b174e58304d/overview
Módulo 2
2.3 Instruções e Expressões


